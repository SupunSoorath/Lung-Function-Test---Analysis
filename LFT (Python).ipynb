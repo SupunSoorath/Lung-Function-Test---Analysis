{
  "nbformat": 4,
  "nbformat_minor": 0,
  "metadata": {
    "colab": {
      "provenance": []
    },
    "kernelspec": {
      "name": "python3",
      "display_name": "Python 3"
    },
    "language_info": {
      "name": "python"
    }
  },
  "cells": [
    {
      "cell_type": "code",
      "execution_count": 2,
      "metadata": {
        "colab": {
          "base_uri": "https://localhost:8080/"
        },
        "id": "ZYafWMrDkJEO",
        "outputId": "2e464430-c526-49cd-8493-3fd811092037"
      },
      "outputs": [
        {
          "output_type": "stream",
          "name": "stdout",
          "text": [
            "Drive already mounted at /content/drive; to attempt to forcibly remount, call drive.mount(\"/content/drive\", force_remount=True).\n"
          ]
        }
      ],
      "source": [
        "from google.colab import drive\n",
        "drive.mount('/content/drive')"
      ]
    },
    {
      "cell_type": "code",
      "source": [
        "# import libraries\n",
        "import numpy as np\n",
        "import pandas as pd\n",
        "import matplotlib.pyplot as plt\n",
        "import seaborn as sn"
      ],
      "metadata": {
        "id": "i2RvRyXqksf8"
      },
      "execution_count": null,
      "outputs": []
    },
    {
      "cell_type": "markdown",
      "source": [],
      "metadata": {
        "id": "exm3Pe9CrvMl"
      }
    },
    {
      "cell_type": "code",
      "source": [
        "df = pd.read_csv('/content/drive/MyDrive/Lung Function Test/new3.csv')\n",
        "df.head(5)"
      ],
      "metadata": {
        "id": "kvRWJSrrk9IU"
      },
      "execution_count": null,
      "outputs": []
    },
    {
      "cell_type": "code",
      "source": [
        "# Number of rows and columns\n",
        "num_rows, num_cols = df.shape\n",
        "\n",
        "print(f\"Number of rows: {num_rows}\")\n",
        "print(f\"Number of columns: {num_cols}\")"
      ],
      "metadata": {
        "id": "GaBCGIsj4ZId"
      },
      "execution_count": null,
      "outputs": []
    },
    {
      "cell_type": "code",
      "source": [
        "# informations of the dataset\n",
        "df.info()"
      ],
      "metadata": {
        "collapsed": true,
        "id": "J7cLhGpKlUMU"
      },
      "execution_count": null,
      "outputs": []
    },
    {
      "cell_type": "code",
      "source": [
        "print(df.isnull().sum())"
      ],
      "metadata": {
        "id": "ljZigHjmRDWL"
      },
      "execution_count": null,
      "outputs": []
    },
    {
      "cell_type": "code",
      "source": [
        "# Descriptive statistics for quantitative variables (features)\n",
        "# Summary for numerical columns (count, mean, std, min, max, etc.)\n",
        "df.describe()"
      ],
      "metadata": {
        "id": "qhMTgx7Nqs4a"
      },
      "execution_count": null,
      "outputs": []
    },
    {
      "cell_type": "code",
      "source": [
        "import matplotlib.pyplot as plt\n",
        "import seaborn as sns\n",
        "\n",
        "# Histogram for demographical features - check the symmetric of the distribution\n",
        "# Plot Age distribution\n",
        "plt.figure(figsize=(8, 6))\n",
        "sns.histplot(df, x='Age', bins=20, kde=True, color='skyblue')\n",
        "plt.title('Distribution of Age in Obstructive Patients')\n",
        "plt.xlabel('Age')\n",
        "plt.ylabel('Frequency')\n",
        "plt.show()\n",
        "\n",
        "bmi_skew = df['Age'].skew()\n",
        "print(f\"Age Skewness: {bmi_skew:.3f}\")"
      ],
      "metadata": {
        "id": "YlWJR7QMZm5N"
      },
      "execution_count": null,
      "outputs": []
    },
    {
      "cell_type": "code",
      "source": [
        "import matplotlib.pyplot as plt\n",
        "import seaborn as sns\n",
        "\n",
        "# Plot Height distribution\n",
        "plt.figure(figsize=(8, 6))\n",
        "sns.histplot(df, x=df.iloc[:, 3], bins=20, kde=True, color='skyblue')\n",
        "plt.title('Distribution of Height in Obstructive Patients')\n",
        "plt.xlabel('Height')\n",
        "plt.ylabel('Frequency')\n",
        "plt.show()\n",
        "\n",
        "bmi_skew = df.iloc[:, 3].skew()\n",
        "print(f\"Height Skewness: {bmi_skew:.3f}\")"
      ],
      "metadata": {
        "id": "My13uliPbEgO"
      },
      "execution_count": null,
      "outputs": []
    },
    {
      "cell_type": "code",
      "source": [
        "import matplotlib.pyplot as plt\n",
        "import seaborn as sns\n",
        "\n",
        "# Plot Weight distribution\n",
        "plt.figure(figsize=(8, 6))\n",
        "sns.histplot(df, x=df.iloc[:, 4], bins=20, kde=True, color='skyblue')\n",
        "plt.title('Distribution of Weight in Obstructive Patients')\n",
        "plt.xlabel('Weight')\n",
        "plt.ylabel('Frequency')\n",
        "plt.show()\n",
        "\n",
        "\n",
        "bmi_skew = df.iloc[:, 4].skew()\n",
        "print(f\"Weight Skewness: {bmi_skew:.3f}\")"
      ],
      "metadata": {
        "id": "1f6Ppd9TZ9z9"
      },
      "execution_count": null,
      "outputs": []
    },
    {
      "cell_type": "code",
      "source": [
        "import matplotlib.pyplot as plt\n",
        "import seaborn as sns\n",
        "\n",
        "# Plot BMI distribution\n",
        "plt.figure(figsize=(8, 6))\n",
        "sns.histplot(df, x='BMI', bins=20, kde=True, color='skyblue')\n",
        "plt.title('Distribution of BMI in Obstructive Patients')\n",
        "plt.xlabel('BMI')\n",
        "plt.ylabel('Frequency')\n",
        "plt.show()\n",
        "\n",
        "\n",
        "bmi_skew = df.iloc[:, 5].skew()\n",
        "print(f\"Weight Skewness: {bmi_skew:.3f}\")"
      ],
      "metadata": {
        "id": "cSr8T2TFa8pn"
      },
      "execution_count": null,
      "outputs": []
    },
    {
      "cell_type": "code",
      "source": [
        "# counts and percentages of qualitative variables\n",
        "gender_counts = df['Gender'].value_counts()\n",
        "print(gender_counts)\n",
        "\n",
        "gender_percent = df['Gender'].value_counts(normalize=True) * 100\n",
        "print(gender_percent)"
      ],
      "metadata": {
        "id": "TjNG66Pfr7CF"
      },
      "execution_count": null,
      "outputs": []
    },
    {
      "cell_type": "code",
      "source": [
        "gender_counts = df['BMI_Cat'].value_counts()\n",
        "print(gender_counts)\n",
        "\n",
        "gender_percent = df['BMI_Cat'].value_counts(normalize=True) * 100\n",
        "print(gender_percent)"
      ],
      "metadata": {
        "id": "xj5fJchw-KLJ"
      },
      "execution_count": null,
      "outputs": []
    },
    {
      "cell_type": "code",
      "source": [
        "import numpy as np\n",
        "import pandas as pd\n",
        "import seaborn as sns\n",
        "import matplotlib.pyplot as plt\n",
        "from scipy.stats import pointbiserialr, chi2_contingency, spearmanr\n",
        "\n",
        "# --------------------------\n",
        "# Mixed Correlation Coefficients and P-values included head maps\n",
        "# --------------------------\n",
        "def mixed_corr_matrix_with_pvalues(df):\n",
        "    n = df.shape[1]\n",
        "    corr_matrix = pd.DataFrame(np.zeros((n, n)), columns=df.columns, index=df.columns)\n",
        "    pval_matrix = pd.DataFrame(np.ones((n, n)), columns=df.columns, index=df.columns)\n",
        "\n",
        "    for col1 in df.columns:\n",
        "        for col2 in df.columns:\n",
        "            if df[col1].nunique() == 2 and df[col2].nunique() == 2:\n",
        "                # Binary-binary using Phi coefficient\n",
        "                contingency_table = pd.crosstab(df[col1], df[col2])\n",
        "                chi2, p, _, _ = chi2_contingency(contingency_table)\n",
        "                phi = np.sqrt(chi2 / len(df))\n",
        "                corr_matrix.loc[col1, col2] = phi\n",
        "                pval_matrix.loc[col1, col2] = p\n",
        "\n",
        "            elif df[col1].nunique() != 2 and df[col2].nunique() != 2:\n",
        "                # Numerical-numerical using Spearman correlation\n",
        "                corr, p = spearmanr(df[col1], df[col2])\n",
        "                corr_matrix.loc[col1, col2] = corr\n",
        "                pval_matrix.loc[col1, col2] = p\n",
        "\n",
        "            else:\n",
        "                # Binary-numerical using Point-Biserial correlation\n",
        "                if df[col1].nunique() == 2:\n",
        "                    corr, p = pointbiserialr(df[col1], df[col2])\n",
        "                else:\n",
        "                    corr, p = pointbiserialr(df[col2], df[col1])\n",
        "                corr_matrix.loc[col1, col2] = corr\n",
        "                pval_matrix.loc[col1, col2] = p\n",
        "\n",
        "    return corr_matrix, pval_matrix\n",
        "\n",
        "# --------------------------\n",
        "# Load and prepare data\n",
        "# --------------------------\n",
        "\n",
        "# Replace with your actual DataFrame loading\n",
        "# data1 = pd.read_csv('your_file.csv')\n",
        "\n",
        "# Assuming `df` is your original DataFrame:\n",
        "df_New = df.iloc[:, 1:-11]  # Adjust this slice as needed\n",
        "\n",
        "# Custom label encoding for Gender\n",
        "custom_mapping = {'Male': 0, 'Female': 1}\n",
        "cm = {'T': 1, 'F': 0}\n",
        "df_New['Gender'] = df_New['Gender'].map(custom_mapping)\n",
        "df_New['Type'] = df_New['Type'].map(cm)\n",
        "# --------------------------\n",
        "# Compute matrices\n",
        "# --------------------------\n",
        "corr_matrix, pval_matrix = mixed_corr_matrix_with_pvalues(df_New)\n",
        "\n",
        "# --------------------------\n",
        "# Plot correlation heatmap\n",
        "# --------------------------\n",
        "plt.figure(figsize=(12, 10))\n",
        "sns.heatmap(corr_matrix, annot=True, cmap='coolwarm', fmt='.2f')\n",
        "plt.title(\"Correlation Coefficient Matrix Heatmap - Obstructive and Restrictive Patients\")\n",
        "plt.show()\n",
        "\n",
        "# --------------------------\n",
        "# Plot p-value heatmap\n",
        "# --------------------------\n",
        "plt.figure(figsize=(12, 10))\n",
        "sns.heatmap(pval_matrix, annot=True, cmap='viridis', fmt='.3f')\n",
        "plt.title(\"P-Value Matrix Heatmap - Obstructive Patient and Restrictive Patients\")\n",
        "plt.show()\n"
      ],
      "metadata": {
        "id": "SHo4RLqSw-3A"
      },
      "execution_count": null,
      "outputs": []
    }
  ]
}